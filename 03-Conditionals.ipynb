{
 "cells": [
  {
   "cell_type": "markdown",
   "id": "07244e0a",
   "metadata": {},
   "source": [
    "# Conditionals\n",
    "\n",
    "In this notebook, we'll encounter another type of variable, a **Boolean**. We'll talk about the ways that we can use comparisons and boolean operators and writing conditional statements. \n",
    "\n",
    "### At the end of this notebook, you'll be able to:\n",
    "\n",
    "* [Recognize and use different types of operators (Boolean and comparison)](#operators)\n",
    "* [Write and test conditional statements in Python](#conditionals)\n",
    "\n",
    "<hr>\n",
    "\n",
    "<a id=\"Operators\"></a>\n",
    "   \n",
    "## Comparison and Boolean Operators\n",
    "\n",
    "We can use comparison operators to test the relationship between two objects. These statements return Booleans.\n",
    "\n",
    "**Booleans** are variables that store `True` or `False`. They are named after the British mathematician George Boole. He first formulated Boolean algebra, which are a set of rules for how to reason with and combine these values. This is the basis of all modern computer logic.\n",
    "\n",
    "**Note:** Capitalization *still* matters! TRUE is not a Boolean.\n",
    "\n",
    "\n",
    "| Symbol |    Operation   | Usage | Boolean Outcome |\n",
    "|:------:|:--------------:|:-----:|:-------:|\n",
    "|    ==   |  is equal to  |`10==5*2`| True | \n",
    "|    !=   | is not equal to | `10!=5*2` | False |\n",
    "|    >  | Greater than |  `10 > 2` | True |\n",
    "|    <   |    Less than    |  `10 < 2` | False |\n",
    "| >= | Greater than _or_ equal to | `10 >= 10` | True |\n",
    "| <= | Less than _or_ equal to | `10 >= 10` | True |\n",
    "\n",
    "<div class=\"alert alert-success\"><b>Task:</b> Test each of the comparison operators, saving their output to a variable.</div>"
   ]
  },
  {
   "cell_type": "code",
   "execution_count": null,
   "id": "3c2e540d",
   "metadata": {},
   "outputs": [],
   "source": [
    "# Test the comparison operators here\n"
   ]
  },
  {
   "cell_type": "markdown",
   "id": "5e1c5088",
   "metadata": {},
   "source": [
    "**Boolean operators** use Boolean logic, and include:\n",
    "- `and` : True if both are true\n",
    "- `or` : True if at least one is true\n",
    "- `not` : True only if false\n",
    "\n",
    "What will this statement return?"
   ]
  },
  {
   "cell_type": "code",
   "execution_count": null,
   "id": "24009e2a",
   "metadata": {},
   "outputs": [],
   "source": [
    "(6 > 10) and (4 == 4)"
   ]
  },
  {
   "cell_type": "markdown",
   "id": "2e455e4b",
   "metadata": {
    "slideshow": {
     "slide_type": "slide"
    }
   },
   "source": [
    "<div class=\"alert alert-success\"><b>Task:</b> Test each of the Boolean operations <code>and</code>, <code>or</code>, & <code>not</code> to see how these variables relate, putting integers, floats, and conditional statements on each side.</div>"
   ]
  },
  {
   "cell_type": "code",
   "execution_count": null,
   "id": "d478f79f",
   "metadata": {},
   "outputs": [],
   "source": [
    "# Test Boolean operators here\n"
   ]
  },
  {
   "cell_type": "markdown",
   "id": "f2dc64bd",
   "metadata": {},
   "source": [
    "<a id=\"conditionals\"></a>\n",
    "\n",
    "## Conditionals\n",
    "**Conditionals** are statements that check for a condition, using the `if` statement, and then only execute a set of code if the condition evaluates as `True`.\n",
    "\n",
    "- `if`\n",
    "- `elif` (else if): After an if, you can use elif statements to check additional conditions.\n",
    "- `else`: After an if, you can use an else that will run if the conditional(s) above have not run.\n",
    "\n",
    "### If/elif/else syntax\n",
    "- Indentation matters! Your statements in the `if` block need to be indented by a tab or four spaces.\n",
    "- You need a colon after `if`, `elif`, and `else`"
   ]
  },
  {
   "cell_type": "code",
   "execution_count": null,
   "id": "abc729fd",
   "metadata": {},
   "outputs": [],
   "source": [
    "condition = False\n",
    "\n",
    "if condition:\n",
    "    print('This code executes if the condition evaluates as True.')\n",
    "    \n",
    "else: \n",
    "    print('This code executes if the condition evaluates as False')"
   ]
  },
  {
   "cell_type": "markdown",
   "id": "e806109b",
   "metadata": {},
   "source": [
    "### Properties of Conditionals\n",
    "- Conditionals can take any expression that can be evaluated as `True` or `False`. \n",
    "- The order of conditional blocks is always `if` then `elif`(s) then `else`.\n",
    "- If the `elif` is at the end, it will never be tested, as the else will have already returned a value once reached (and Python will throw an error).\n",
    "- An `else` statement is not required, but if both the `if` and the `elif` condtions are not met (both evaluate as `False`), then nothing is returned.\n",
    "- **At most one component (`if` / `elif` / `else`) of a conditional will run**"
   ]
  }
 ],
 "metadata": {
  "kernelspec": {
   "display_name": "Python 3",
   "language": "python",
   "name": "python3"
  },
  "language_info": {
   "codemirror_mode": {
    "name": "ipython",
    "version": 3
   },
   "file_extension": ".py",
   "mimetype": "text/x-python",
   "name": "python",
   "nbconvert_exporter": "python",
   "pygments_lexer": "ipython3",
   "version": "3.7.3"
  }
 },
 "nbformat": 4,
 "nbformat_minor": 5
}
